{
 "cells": [
  {
   "cell_type": "code",
   "execution_count": null,
   "metadata": {},
   "outputs": [],
   "source": [
    "!pip install git+https://github.com/AnFreTh/NodeGAMLSS.git"
   ]
  },
  {
   "cell_type": "markdown",
   "metadata": {},
   "source": [
    "### Simulate some data"
   ]
  },
  {
   "cell_type": "code",
   "execution_count": null,
   "metadata": {},
   "outputs": [],
   "source": [
    "from nodegamlss.model import NodeGAMLSS\n",
    "import numpy as np\n",
    "import pandas as pd\n",
    "import matplotlib.pyplot as plt\n",
    "\n",
    "\n",
    "# Generate dataset\n",
    "N = 5000\n",
    "x1 = np.random.uniform(-5, 5, size=N)\n",
    "x2 = np.random.uniform(-5, 5, size=N)\n",
    "x3 = np.random.uniform(-5, 5, size=N)\n",
    "\n",
    "f1 = lambda x: (x) ** 2 - 8\n",
    "f2 = lambda x: x * 2\n",
    "f3 = lambda x: np.sin(x)\n",
    "\n",
    "y = f1(x1) + f2(x2) + f3(x3) + np.random.normal(0,0.5, N)\n",
    "y = (y - np.mean(y)) / np.std(y)\n",
    "X = pd.DataFrame(np.vstack([x1, x2, x3]).T)"
   ]
  },
  {
   "cell_type": "code",
   "execution_count": null,
   "metadata": {},
   "outputs": [],
   "source": [
    "model = NodeGAMLSS(\n",
    "    in_features=X.shape[1],\n",
    "    family=\"normal\",\n",
    "    device=\"cuda\",\n",
    "    verbose=False,\n",
    "    max_steps=5000,\n",
    "    lr=0.001,\n",
    "    report_frequency=100,\n",
    "    num_trees=75,\n",
    ")\n",
    "\n",
    "\n",
    "record = model.fit(X, y)"
   ]
  },
  {
   "cell_type": "code",
   "execution_count": null,
   "metadata": {},
   "outputs": [],
   "source": [
    "plt.figure(figsize=[18, 6])\n",
    "plt.subplot(1, 2, 1)\n",
    "plt.plot(record['train_losses'])\n",
    "plt.title('Training Loss')\n",
    "plt.xlabel('Steps')\n",
    "plt.grid()\n",
    "plt.subplot(1, 2, 2)\n",
    "plt.plot([record['val_metrics'][idx][\"mse\"] for idx in range(len(record[\"val_metrics\"]))])\n",
    "plt.title('Validation Metrics MSE')\n",
    "plt.xlabel('Steps in every 100 step')\n",
    "plt.grid()\n",
    "plt.show()"
   ]
  },
  {
   "cell_type": "code",
   "execution_count": null,
   "metadata": {},
   "outputs": [],
   "source": [
    "plt.figure(figsize=[18, 6])\n",
    "plt.subplot(1, 2, 1)\n",
    "plt.plot([record['val_metrics'][idx][\"NLL\"] for idx in range(len(record[\"val_metrics\"]))])\n",
    "plt.title('Validation Metrics NLL')\n",
    "plt.xlabel('Steps in every 100 step')\n",
    "plt.grid()\n",
    "plt.subplot(1, 2, 2)\n",
    "plt.plot([record['val_metrics'][idx][\"rmse\"] for idx in range(len(record[\"val_metrics\"]))])\n",
    "plt.title('Validation Metrics RMSE')\n",
    "plt.xlabel('Steps in every 100 step')\n",
    "plt.grid()\n",
    "plt.show()"
   ]
  },
  {
   "cell_type": "code",
   "execution_count": null,
   "metadata": {},
   "outputs": [],
   "source": [
    "model.plot_single_feature_effects(X, parameter=\"mean\")"
   ]
  },
  {
   "cell_type": "code",
   "execution_count": null,
   "metadata": {},
   "outputs": [],
   "source": [
    "model.plot_single_feature_effects(X, parameter=\"variance\", port=8053)"
   ]
  }
 ],
 "metadata": {
  "kernelspec": {
   "display_name": "nodegam_venv",
   "language": "python",
   "name": "nodegam_venv"
  },
  "language_info": {
   "codemirror_mode": {
    "name": "ipython",
    "version": 3
   },
   "file_extension": ".py",
   "mimetype": "text/x-python",
   "name": "python",
   "nbconvert_exporter": "python",
   "pygments_lexer": "ipython3",
   "version": "3.9.18"
  }
 },
 "nbformat": 4,
 "nbformat_minor": 2
}
